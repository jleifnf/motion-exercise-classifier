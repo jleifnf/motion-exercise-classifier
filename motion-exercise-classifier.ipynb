{
 "cells": [
  {
   "cell_type": "markdown",
   "metadata": {
    "collapsed": true,
    "pycharm": {
     "name": "#%% md\n"
    }
   },
   "source": [
    "# Autmoatic Recognition of  Exercise from Wearables' Motion Sensors\n",
    "\n",
    "### Table of Data:\n",
    "- [Objective](#objective)\n",
    "- [Data](#data)\n",
    "    - [Model](#model)\n",
    "- [Results](#results)"
   ]
  },
  {
   "cell_type": "markdown",
   "metadata": {
    "pycharm": {
     "name": "#%% md\n"
    }
   },
   "source": [
    "## <p id=\"objective\">Objective:</p>\n",
    "Sales of smart wearable devices have been increasing. Approximately 31 million Apple Watch units were sold worldwide in the year 2019 according to CNET and estimated to reach 134 million units in 2020 according to MarketWatch. Fitness and health applications in mobile are also on the rise. \n",
    "\n",
    "Majority of the fitness trackers or exercise mobile apps have yet to utilize machine learning to automatically recognize the activity"
   ]
  },
  {
   "cell_type": "markdown",
   "metadata": {
    "pycharm": {
     "name": "#%% md\n"
    }
   },
   "source": [
    "## <p id='data'>Data:</p>\n",
    "From Microsoft Research, RecoFit (wearble fitness band)\n",
    "Exercises:"
   ]
  },
  {
   "cell_type": "code",
   "execution_count": null,
   "metadata": {},
   "outputs": [],
   "source": []
  },
  {
   "cell_type": "markdown",
   "metadata": {
    "pycharm": {
     "name": "#%% md\n"
    }
   },
   "source": [
    "### CNN - RNN (similar to speech recognition)"
   ]
  },
  {
   "cell_type": "markdown",
   "metadata": {
    "pycharm": {
     "name": "#%% md\n"
    }
   },
   "source": [
    "### Results"
   ]
  },
  {
   "cell_type": "code",
   "execution_count": null,
   "metadata": {},
   "outputs": [],
   "source": []
  }
 ],
 "metadata": {
  "kernelspec": {
   "display_name": "Python 3.7.0 64-bit",
   "language": "python",
   "name": "python37064bitf3ab289456ca4d1cbe29a87a8faf5159"
  },
  "language_info": {
   "codemirror_mode": {
    "name": "ipython",
    "version": 3
   },
   "file_extension": ".py",
   "mimetype": "text/x-python",
   "name": "python",
   "nbconvert_exporter": "python",
   "pygments_lexer": "ipython3",
   "version": "3.7.0"
  },
  "pycharm": {
   "stem_cell": {
    "cell_type": "raw",
    "metadata": {
     "collapsed": false
    },
    "source": []
   }
  }
 },
 "nbformat": 4,
 "nbformat_minor": 1
}
